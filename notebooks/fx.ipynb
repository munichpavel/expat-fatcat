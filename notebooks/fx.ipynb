{
 "cells": [
  {
   "cell_type": "markdown",
   "metadata": {},
   "source": [
    "# Convert foreign payments to USD with historical FX rates"
   ]
  },
  {
   "cell_type": "code",
   "execution_count": 1,
   "metadata": {},
   "outputs": [],
   "source": [
    "import os\n",
    "import pandas as pd\n",
    "\n",
    "from datetime import datetime\n",
    "from datetime import timedelta\n",
    "\n",
    "import quandl"
   ]
  },
  {
   "cell_type": "code",
   "execution_count": 2,
   "metadata": {},
   "outputs": [],
   "source": [
    "if 'QUANDL_KEY' in os.environ:\n",
    "    quandl.ApiConfig.api_key = os.environ['QUANDL_KEY']"
   ]
  },
  {
   "cell_type": "code",
   "execution_count": 3,
   "metadata": {},
   "outputs": [],
   "source": [
    "api_call = {\n",
    "    'ECB': 'ECB/EURUSD',\n",
    "    'FRED': 'FRED/DEXUSEU',\n",
    "    'BOE': 'BOE/XUDLSER'\n",
    "    }"
   ]
  },
  {
   "cell_type": "code",
   "execution_count": 4,
   "metadata": {},
   "outputs": [
    {
     "data": {
      "text/html": [
       "<div>\n",
       "<style scoped>\n",
       "    .dataframe tbody tr th:only-of-type {\n",
       "        vertical-align: middle;\n",
       "    }\n",
       "\n",
       "    .dataframe tbody tr th {\n",
       "        vertical-align: top;\n",
       "    }\n",
       "\n",
       "    .dataframe thead th {\n",
       "        text-align: right;\n",
       "    }\n",
       "</style>\n",
       "<table border=\"1\" class=\"dataframe\">\n",
       "  <thead>\n",
       "    <tr style=\"text-align: right;\">\n",
       "      <th></th>\n",
       "      <th>Date</th>\n",
       "      <th>Amount</th>\n",
       "      <th>date_stamp</th>\n",
       "    </tr>\n",
       "  </thead>\n",
       "  <tbody>\n",
       "    <tr>\n",
       "      <th>0</th>\n",
       "      <td>2017-01-20</td>\n",
       "      <td>1000</td>\n",
       "      <td>2017-01-20</td>\n",
       "    </tr>\n",
       "    <tr>\n",
       "      <th>1</th>\n",
       "      <td>2017-02-20</td>\n",
       "      <td>1000</td>\n",
       "      <td>2017-02-20</td>\n",
       "    </tr>\n",
       "    <tr>\n",
       "      <th>2</th>\n",
       "      <td>2017-03-20</td>\n",
       "      <td>1500</td>\n",
       "      <td>2017-03-20</td>\n",
       "    </tr>\n",
       "  </tbody>\n",
       "</table>\n",
       "</div>"
      ],
      "text/plain": [
       "         Date  Amount date_stamp\n",
       "0  2017-01-20    1000 2017-01-20\n",
       "1  2017-02-20    1000 2017-02-20\n",
       "2  2017-03-20    1500 2017-03-20"
      ]
     },
     "execution_count": 4,
     "metadata": {},
     "output_type": "execute_result"
    }
   ],
   "source": [
    "salary = pd.read_csv('example.csv')\n",
    "salary['date_stamp'] = salary['Date'].apply(lambda x: datetime.strptime(x, '%Y-%m-%d'))\n",
    "salary"
   ]
  },
  {
   "cell_type": "code",
   "execution_count": 5,
   "metadata": {},
   "outputs": [],
   "source": [
    "date_stamp = salary['date_stamp'][0]\n",
    "data_source_code = 'ECB'\n",
    "fx_call_code =api_call[data_source_code]\n",
    "\n",
    "\n",
    "\n",
    "fx_rate = quandl.get(fx_call_code, start_date=date_stamp, end_date=date_stamp + timedelta(days=1))"
   ]
  },
  {
   "cell_type": "code",
   "execution_count": 6,
   "metadata": {},
   "outputs": [
    {
     "data": {
      "text/plain": [
       "1.0632"
      ]
     },
     "execution_count": 6,
     "metadata": {},
     "output_type": "execute_result"
    }
   ],
   "source": [
    "def get_fx_rate_smoothed(date_stamp, fx_call_code):\n",
    "    '''\n",
    "    Gets fx rate for date according to fx call code, if missing, takes the average\n",
    "    of fx rates before and after\n",
    "    '''\n",
    "    \n",
    "    try:\n",
    "        fx_rate = quandl.get(fx_call_code, \n",
    "                             start_date=date_stamp, end_date=date_stamp + timedelta(days=1))\n",
    "    except quandl.errors.NotFoundError as err:\n",
    "        print(err)\n",
    "        return\n",
    "    \n",
    "    if len(fx_rate) != 0:\n",
    "        return fx_rate['Value'][0]\n",
    "    else:\n",
    "        fx_rate_before = quandl.get(fx_call_code, \n",
    "                                    start_date = date_stamp - timedelta(days=7),\n",
    "                                    end_date = date_stamp - timedelta(days=1))\n",
    "        fx_rate_after = quandl.get(fx_call_code, start_date=date_stamp + timedelta(days=1), \n",
    "                                         end_date=date_stamp + timedelta(days=7))\n",
    "        \n",
    "        return (fx_rate_before['Value'][-1] + fx_rate_after['Value'][0])/2\n",
    "    \n",
    "get_fx_rate_smoothed(date_stamp, fx_call_code)"
   ]
  },
  {
   "cell_type": "code",
   "execution_count": 7,
   "metadata": {},
   "outputs": [
    {
     "data": {
      "text/html": [
       "<div>\n",
       "<style scoped>\n",
       "    .dataframe tbody tr th:only-of-type {\n",
       "        vertical-align: middle;\n",
       "    }\n",
       "\n",
       "    .dataframe tbody tr th {\n",
       "        vertical-align: top;\n",
       "    }\n",
       "\n",
       "    .dataframe thead th {\n",
       "        text-align: right;\n",
       "    }\n",
       "</style>\n",
       "<table border=\"1\" class=\"dataframe\">\n",
       "  <thead>\n",
       "    <tr style=\"text-align: right;\">\n",
       "      <th></th>\n",
       "      <th>Value</th>\n",
       "    </tr>\n",
       "    <tr>\n",
       "      <th>Date</th>\n",
       "      <th></th>\n",
       "    </tr>\n",
       "  </thead>\n",
       "  <tbody>\n",
       "  </tbody>\n",
       "</table>\n",
       "</div>"
      ],
      "text/plain": [
       "Empty DataFrame\n",
       "Columns: [Value]\n",
       "Index: []"
      ]
     },
     "execution_count": 7,
     "metadata": {},
     "output_type": "execute_result"
    }
   ],
   "source": [
    "# For pytest\n",
    "fx_rate_test = pd.DataFrame(data={'Value':[]})\n",
    "fx_rate_test.index.rename('Date', inplace=True)\n",
    "fx_rate_test"
   ]
  },
  {
   "cell_type": "code",
   "execution_count": null,
   "metadata": {},
   "outputs": [],
   "source": []
  }
 ],
 "metadata": {
  "kernelspec": {
   "display_name": "Python 3",
   "language": "python",
   "name": "python3"
  },
  "language_info": {
   "codemirror_mode": {
    "name": "ipython",
    "version": 3
   },
   "file_extension": ".py",
   "mimetype": "text/x-python",
   "name": "python",
   "nbconvert_exporter": "python",
   "pygments_lexer": "ipython3",
   "version": "3.6.5"
  }
 },
 "nbformat": 4,
 "nbformat_minor": 2
}
