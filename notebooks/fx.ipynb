{
 "cells": [
  {
   "cell_type": "markdown",
   "metadata": {},
   "source": [
    "# Convert foreign payments to USD with historical FX rates"
   ]
  },
  {
   "cell_type": "code",
   "execution_count": 1,
   "metadata": {},
   "outputs": [],
   "source": [
    "import os\n",
    "import pandas as pd\n",
    "\n",
    "from expat_fatcat import expat_fatcat as fatcat\n",
    "\n",
    "from importlib import reload\n",
    "reload(fatcat);\n"
   ]
  },
  {
   "cell_type": "markdown",
   "metadata": {},
   "source": [
    "# Load example salary data\n",
    "\n",
    "This data is fake. Really."
   ]
  },
  {
   "cell_type": "code",
   "execution_count": 2,
   "metadata": {},
   "outputs": [
    {
     "data": {
      "text/html": [
       "<div>\n",
       "<style>\n",
       "    .dataframe thead tr:only-child th {\n",
       "        text-align: right;\n",
       "    }\n",
       "\n",
       "    .dataframe thead th {\n",
       "        text-align: left;\n",
       "    }\n",
       "\n",
       "    .dataframe tbody tr th {\n",
       "        vertical-align: top;\n",
       "    }\n",
       "</style>\n",
       "<table border=\"1\" class=\"dataframe\">\n",
       "  <thead>\n",
       "    <tr style=\"text-align: right;\">\n",
       "      <th></th>\n",
       "      <th>Date</th>\n",
       "      <th>Amount</th>\n",
       "    </tr>\n",
       "  </thead>\n",
       "  <tbody>\n",
       "    <tr>\n",
       "      <th>0</th>\n",
       "      <td>2017-01-20</td>\n",
       "      <td>1000</td>\n",
       "    </tr>\n",
       "    <tr>\n",
       "      <th>1</th>\n",
       "      <td>2017-02-20</td>\n",
       "      <td>1000</td>\n",
       "    </tr>\n",
       "    <tr>\n",
       "      <th>2</th>\n",
       "      <td>2017-03-20</td>\n",
       "      <td>1500</td>\n",
       "    </tr>\n",
       "  </tbody>\n",
       "</table>\n",
       "</div>"
      ],
      "text/plain": [
       "         Date  Amount\n",
       "0  2017-01-20    1000\n",
       "1  2017-02-20    1000\n",
       "2  2017-03-20    1500"
      ]
     },
     "execution_count": 2,
     "metadata": {},
     "output_type": "execute_result"
    }
   ],
   "source": [
    "salary = pd.read_csv('example.csv')\n",
    "salary"
   ]
  },
  {
   "cell_type": "markdown",
   "metadata": {},
   "source": [
    "## Get smoothed historical exchange rates to USD via quandl\n",
    "\n",
    "The workhorse of this package is the function `get_fx_rate_smoothed` that calls the quandl api to get the exchange rate for each payment in your salary, rental payment, etc.. One edge case handled by `get_fx_rate_smoothed` is when you have a payment on a day that is a bank holiday, which results in `NaN`. The solution implemented here is to look for the first valid fx-rate before and after the day you were payed and average them."
   ]
  },
  {
   "cell_type": "code",
   "execution_count": 3,
   "metadata": {},
   "outputs": [
    {
     "name": "stdout",
     "output_type": "stream",
     "text": [
      "EUR to USD on 2017-01-20: 1.0632\n",
      "GBP to USD on 2017-01-20: 1.2323\n"
     ]
    }
   ],
   "source": [
    "date_string=salary['Date'][0]\n",
    "fx_call_code = fatcat.quandl_calls['EUR']['ECB']\n",
    "print(f'EUR to USD on {date_string}: {fatcat.get_fx_rate_smoothed(date_string, fx_call_code)}')\n",
    "\n",
    "fx_call_code = fatcat.quandl_calls['GBP']['BOE']\n",
    "print(f'GBP to USD on {date_string}: {fatcat.get_fx_rate_smoothed(date_string, fx_call_code)}')"
   ]
  },
  {
   "cell_type": "markdown",
   "metadata": {},
   "source": [
    "The above exchange rates were sourced from the Bank of England (BOE). Let's see what happens if we take our GBP to USD exchange from the Federal Reserve (Federal Research Economic Data) rather than the BOE."
   ]
  },
  {
   "cell_type": "code",
   "execution_count": 4,
   "metadata": {},
   "outputs": [
    {
     "name": "stdout",
     "output_type": "stream",
     "text": [
      "GBP to USD on 2017-01-20 from the Federal Reserve, USA:1.2402\n"
     ]
    }
   ],
   "source": [
    "fx_call_code = fatcat.quandl_calls['GBP']['FRED']\n",
    "print(f'GBP to USD on {date_string} from the Federal Reserve, USA:'\n",
    "      f'{fatcat.get_fx_rate_smoothed(date_string, fx_call_code)}')"
   ]
  },
  {
   "cell_type": "markdown",
   "metadata": {},
   "source": [
    "## Convert a series of payment to USD\n",
    "\n",
    "Accepted input formats for `expat_fatcat` are csv and xlsx."
   ]
  },
  {
   "cell_type": "code",
   "execution_count": 5,
   "metadata": {},
   "outputs": [
    {
     "data": {
      "text/html": [
       "<div>\n",
       "<style>\n",
       "    .dataframe thead tr:only-child th {\n",
       "        text-align: right;\n",
       "    }\n",
       "\n",
       "    .dataframe thead th {\n",
       "        text-align: left;\n",
       "    }\n",
       "\n",
       "    .dataframe tbody tr th {\n",
       "        vertical-align: top;\n",
       "    }\n",
       "</style>\n",
       "<table border=\"1\" class=\"dataframe\">\n",
       "  <thead>\n",
       "    <tr style=\"text-align: right;\">\n",
       "      <th></th>\n",
       "      <th>Date</th>\n",
       "      <th>Amount</th>\n",
       "      <th>fx_rate</th>\n",
       "      <th>amount_usd</th>\n",
       "    </tr>\n",
       "  </thead>\n",
       "  <tbody>\n",
       "    <tr>\n",
       "      <th>0</th>\n",
       "      <td>2017-01-20</td>\n",
       "      <td>1000</td>\n",
       "      <td>1.0632</td>\n",
       "      <td>1063.2</td>\n",
       "    </tr>\n",
       "    <tr>\n",
       "      <th>1</th>\n",
       "      <td>2017-02-20</td>\n",
       "      <td>1000</td>\n",
       "      <td>1.0616</td>\n",
       "      <td>1061.6</td>\n",
       "    </tr>\n",
       "    <tr>\n",
       "      <th>2</th>\n",
       "      <td>2017-03-20</td>\n",
       "      <td>1500</td>\n",
       "      <td>1.0752</td>\n",
       "      <td>1612.8</td>\n",
       "    </tr>\n",
       "  </tbody>\n",
       "</table>\n",
       "</div>"
      ],
      "text/plain": [
       "         Date  Amount  fx_rate  amount_usd\n",
       "0  2017-01-20    1000   1.0632      1063.2\n",
       "1  2017-02-20    1000   1.0616      1061.6\n",
       "2  2017-03-20    1500   1.0752      1612.8"
      ]
     },
     "execution_count": 5,
     "metadata": {},
     "output_type": "execute_result"
    }
   ],
   "source": [
    "fatcat.convert_payments('example.csv')"
   ]
  },
  {
   "cell_type": "code",
   "execution_count": 6,
   "metadata": {},
   "outputs": [
    {
     "data": {
      "text/html": [
       "<div>\n",
       "<style>\n",
       "    .dataframe thead tr:only-child th {\n",
       "        text-align: right;\n",
       "    }\n",
       "\n",
       "    .dataframe thead th {\n",
       "        text-align: left;\n",
       "    }\n",
       "\n",
       "    .dataframe tbody tr th {\n",
       "        vertical-align: top;\n",
       "    }\n",
       "</style>\n",
       "<table border=\"1\" class=\"dataframe\">\n",
       "  <thead>\n",
       "    <tr style=\"text-align: right;\">\n",
       "      <th></th>\n",
       "      <th>Date</th>\n",
       "      <th>Amount</th>\n",
       "      <th>fx_rate</th>\n",
       "      <th>amount_usd</th>\n",
       "    </tr>\n",
       "  </thead>\n",
       "  <tbody>\n",
       "    <tr>\n",
       "      <th>0</th>\n",
       "      <td>2017-01-20</td>\n",
       "      <td>1000</td>\n",
       "      <td>1.0632</td>\n",
       "      <td>1063.2</td>\n",
       "    </tr>\n",
       "    <tr>\n",
       "      <th>1</th>\n",
       "      <td>2017-02-20</td>\n",
       "      <td>1000</td>\n",
       "      <td>1.0616</td>\n",
       "      <td>1061.6</td>\n",
       "    </tr>\n",
       "    <tr>\n",
       "      <th>2</th>\n",
       "      <td>2017-03-20</td>\n",
       "      <td>1500</td>\n",
       "      <td>1.0752</td>\n",
       "      <td>1612.8</td>\n",
       "    </tr>\n",
       "  </tbody>\n",
       "</table>\n",
       "</div>"
      ],
      "text/plain": [
       "        Date  Amount  fx_rate  amount_usd\n",
       "0 2017-01-20    1000   1.0632      1063.2\n",
       "1 2017-02-20    1000   1.0616      1061.6\n",
       "2 2017-03-20    1500   1.0752      1612.8"
      ]
     },
     "execution_count": 6,
     "metadata": {},
     "output_type": "execute_result"
    }
   ],
   "source": [
    "fatcat.convert_payments('example.xlsx')"
   ]
  },
  {
   "cell_type": "markdown",
   "metadata": {},
   "source": [
    "## Compute total foreign income  and housing deduction examples of f2555"
   ]
  },
  {
   "cell_type": "code",
   "execution_count": 7,
   "metadata": {},
   "outputs": [
    {
     "name": "stdout",
     "output_type": "stream",
     "text": [
      "Example salary calculation, line 25 of f2555: 3737.6000000000004\n",
      "Example housing deduction calculation, line 34 of f2555: 2080.0\n"
     ]
    }
   ],
   "source": [
    "f2555_line_25 = fatcat.sum_payments_usd('example_salary.csv')\n",
    "print(f'Example salary calculation, line 25 of f2555: {f2555_line_25}')\n",
    "\n",
    "f2555_line_34 = fatcat.sum_payments_usd('example_housing.csv')\n",
    "print(f'Example housing deduction calculation, line 34 of f2555: {f2555_line_34}')\n"
   ]
  }
 ],
 "metadata": {
  "kernelspec": {
   "display_name": "Python 3",
   "language": "python",
   "name": "python3"
  },
  "language_info": {
   "codemirror_mode": {
    "name": "ipython",
    "version": 3
   },
   "file_extension": ".py",
   "mimetype": "text/x-python",
   "name": "python",
   "nbconvert_exporter": "python",
   "pygments_lexer": "ipython3",
   "version": "3.6.2"
  }
 },
 "nbformat": 4,
 "nbformat_minor": 2
}
