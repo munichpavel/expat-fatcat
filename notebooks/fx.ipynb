{
 "cells": [
  {
   "cell_type": "markdown",
   "metadata": {},
   "source": [
    "# Convert foreign payments to USD with historical FX rates"
   ]
  },
  {
   "cell_type": "code",
   "execution_count": 1,
   "metadata": {},
   "outputs": [],
   "source": [
    "import os\n",
    "import pandas as pd\n",
    "\n",
    "from datetime import datetime\n",
    "from datetime import timedelta\n",
    "\n",
    "import quandl"
   ]
  },
  {
   "cell_type": "code",
   "execution_count": 2,
   "metadata": {},
   "outputs": [],
   "source": [
    "if 'QUANDL_KEY' in os.environ:\n",
    "    quandl.ApiConfig.api_key = os.environ['QUANDL_KEY']"
   ]
  },
  {
   "cell_type": "code",
   "execution_count": 3,
   "metadata": {},
   "outputs": [],
   "source": [
    "eur_quandl_calls = {\n",
    "    'ECB': 'ECB/EURUSD',\n",
    "    'FRED': 'FRED/DEXUSEU',\n",
    "    'BOE': 'BOE/XUDLSER'\n",
    "    }\n",
    "\n",
    "quandl_calls = {'EUR': eur_quandl_calls}"
   ]
  },
  {
   "cell_type": "code",
   "execution_count": 4,
   "metadata": {},
   "outputs": [
    {
     "data": {
      "text/plain": [
       "1.0632"
      ]
     },
     "execution_count": 4,
     "metadata": {},
     "output_type": "execute_result"
    }
   ],
   "source": [
    "def get_fx_rate_smoothed(date_string, fx_call_code):\n",
    "    '''\n",
    "    Gets fx rate for date according to fx call code, if missing, takes the average\n",
    "    of fx rates before and after\n",
    "    '''\n",
    "    \n",
    "    date_stamp = datetime.strptime(date_string, '%Y-%m-%d')\n",
    "    \n",
    "    try:\n",
    "        fx_rate = quandl.get(fx_call_code, \n",
    "                             start_date=date_stamp, end_date=date_stamp + timedelta(days=1))\n",
    "    except quandl.errors.quandl_error.NotFoundError as err:\n",
    "        print(err)\n",
    "        return\n",
    "    \n",
    "    if len(fx_rate) != 0:\n",
    "        return fx_rate['Value'][0]\n",
    "    else:\n",
    "        return smooth_fx_rate(date_stamp, fx_call_code)\n",
    "    \n",
    "    \n",
    "def smooth_fx_rate(date_stamp, quandl_call_code):\n",
    "    ''''''\n",
    "    fx_rate_before = quandl.get(quandl_call_code, \n",
    "                                    start_date = date_stamp - timedelta(days=7),\n",
    "                                    end_date = date_stamp - timedelta(days=1))\n",
    "    fx_rate_after = quandl.get(quandl_call_code, start_date=date_stamp + timedelta(days=1), \n",
    "                                         end_date=date_stamp + timedelta(days=7))\n",
    "        \n",
    "    return (fx_rate_before['Value'][-1] + fx_rate_after['Value'][0])/2\n",
    "\n",
    "\n",
    "salary = pd.read_csv('example.csv')\n",
    "date_string=salary['Date'][0]\n",
    "fx_call_code = quandl_calls['EUR']['ECB']\n",
    "get_fx_rate_smoothed(date_string, fx_call_code)"
   ]
  },
  {
   "cell_type": "code",
   "execution_count": 5,
   "metadata": {},
   "outputs": [
    {
     "data": {
      "text/html": [
       "<div>\n",
       "<style scoped>\n",
       "    .dataframe tbody tr th:only-of-type {\n",
       "        vertical-align: middle;\n",
       "    }\n",
       "\n",
       "    .dataframe tbody tr th {\n",
       "        vertical-align: top;\n",
       "    }\n",
       "\n",
       "    .dataframe thead th {\n",
       "        text-align: right;\n",
       "    }\n",
       "</style>\n",
       "<table border=\"1\" class=\"dataframe\">\n",
       "  <thead>\n",
       "    <tr style=\"text-align: right;\">\n",
       "      <th></th>\n",
       "      <th>Date</th>\n",
       "      <th>Amount</th>\n",
       "      <th>fx_rate</th>\n",
       "      <th>amount_usd</th>\n",
       "    </tr>\n",
       "  </thead>\n",
       "  <tbody>\n",
       "    <tr>\n",
       "      <th>0</th>\n",
       "      <td>2017-01-20</td>\n",
       "      <td>1000</td>\n",
       "      <td>1.0632</td>\n",
       "      <td>1063.2</td>\n",
       "    </tr>\n",
       "    <tr>\n",
       "      <th>1</th>\n",
       "      <td>2017-02-20</td>\n",
       "      <td>1000</td>\n",
       "      <td>1.0616</td>\n",
       "      <td>1061.6</td>\n",
       "    </tr>\n",
       "    <tr>\n",
       "      <th>2</th>\n",
       "      <td>2017-03-20</td>\n",
       "      <td>1500</td>\n",
       "      <td>1.0752</td>\n",
       "      <td>1612.8</td>\n",
       "    </tr>\n",
       "  </tbody>\n",
       "</table>\n",
       "</div>"
      ],
      "text/plain": [
       "         Date  Amount  fx_rate  amount_usd\n",
       "0  2017-01-20    1000   1.0632      1063.2\n",
       "1  2017-02-20    1000   1.0616      1061.6\n",
       "2  2017-03-20    1500   1.0752      1612.8"
      ]
     },
     "execution_count": 5,
     "metadata": {},
     "output_type": "execute_result"
    }
   ],
   "source": [
    "fx_call_code =quandl_calls['EUR']['ECB']\n",
    "salary['fx_rate'] = salary['Date'].apply(lambda date_string: \n",
    "                                          get_fx_rate_smoothed(date_string, fx_call_code))\n",
    "salary['amount_usd'] = salary['Amount']*salary['fx_rate']\n",
    "salary"
   ]
  },
  {
   "cell_type": "code",
   "execution_count": 6,
   "metadata": {},
   "outputs": [
    {
     "data": {
      "text/html": [
       "<div>\n",
       "<style scoped>\n",
       "    .dataframe tbody tr th:only-of-type {\n",
       "        vertical-align: middle;\n",
       "    }\n",
       "\n",
       "    .dataframe tbody tr th {\n",
       "        vertical-align: top;\n",
       "    }\n",
       "\n",
       "    .dataframe thead th {\n",
       "        text-align: right;\n",
       "    }\n",
       "</style>\n",
       "<table border=\"1\" class=\"dataframe\">\n",
       "  <thead>\n",
       "    <tr style=\"text-align: right;\">\n",
       "      <th></th>\n",
       "      <th>Date</th>\n",
       "      <th>Amount</th>\n",
       "      <th>fx_rate</th>\n",
       "      <th>amount_usd</th>\n",
       "    </tr>\n",
       "  </thead>\n",
       "  <tbody>\n",
       "    <tr>\n",
       "      <th>0</th>\n",
       "      <td>2017-01-20</td>\n",
       "      <td>1000</td>\n",
       "      <td>1.0632</td>\n",
       "      <td>1063.2</td>\n",
       "    </tr>\n",
       "    <tr>\n",
       "      <th>1</th>\n",
       "      <td>2017-02-20</td>\n",
       "      <td>1000</td>\n",
       "      <td>1.0616</td>\n",
       "      <td>1061.6</td>\n",
       "    </tr>\n",
       "    <tr>\n",
       "      <th>2</th>\n",
       "      <td>2017-03-20</td>\n",
       "      <td>1500</td>\n",
       "      <td>1.0752</td>\n",
       "      <td>1612.8</td>\n",
       "    </tr>\n",
       "  </tbody>\n",
       "</table>\n",
       "</div>"
      ],
      "text/plain": [
       "         Date  Amount  fx_rate  amount_usd\n",
       "0  2017-01-20    1000   1.0632      1063.2\n",
       "1  2017-02-20    1000   1.0616      1061.6\n",
       "2  2017-03-20    1500   1.0752      1612.8"
      ]
     },
     "execution_count": 6,
     "metadata": {},
     "output_type": "execute_result"
    }
   ],
   "source": [
    "def convert_payments(payment_csv_path, amount_col='Amount', date_col = 'Date',\n",
    "                       currency='EUR', source='ECB'):\n",
    "    payment_df = pd.read_csv(payment_csv_path)\n",
    "    \n",
    "    return convert_payment_df(payment_df, amount_col, date_col, currency, source)\n",
    "\n",
    "\n",
    "def convert_payment_df(payment_df, amount_col='Amount', date_col = 'Date',\n",
    "                       currency='EUR', source='ECB'):\n",
    "    fx_call_code = quandl_calls[currency][source]\n",
    "    \n",
    "    payment_df['fx_rate'] = salary[date_col].apply(lambda date_string: \n",
    "                                          get_fx_rate_smoothed(date_string, fx_call_code))\n",
    "    \n",
    "    payment_df['amount_usd'] = payment_df[amount_col]*payment_df['fx_rate']\n",
    "\n",
    "    return payment_df\n",
    "\n",
    "convert_payments('example.csv')"
   ]
  }
 ],
 "metadata": {
  "kernelspec": {
   "display_name": "Python 3",
   "language": "python",
   "name": "python3"
  },
  "language_info": {
   "codemirror_mode": {
    "name": "ipython",
    "version": 3
   },
   "file_extension": ".py",
   "mimetype": "text/x-python",
   "name": "python",
   "nbconvert_exporter": "python",
   "pygments_lexer": "ipython3",
   "version": "3.6.5"
  }
 },
 "nbformat": 4,
 "nbformat_minor": 2
}
