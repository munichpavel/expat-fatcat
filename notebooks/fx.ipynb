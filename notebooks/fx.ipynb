{
 "cells": [
  {
   "cell_type": "markdown",
   "metadata": {},
   "source": [
    "# Convert foreign payments to USD with historical FX rates"
   ]
  },
  {
   "cell_type": "code",
   "execution_count": 1,
   "metadata": {
    "collapsed": true
   },
   "outputs": [],
   "source": [
    "import os\n",
    "import pandas as pd\n",
    "\n",
    "from datetime import datetime\n",
    "from datetime import timedelta\n",
    "\n",
    "import quandl"
   ]
  },
  {
   "cell_type": "code",
   "execution_count": 2,
   "metadata": {
    "collapsed": true
   },
   "outputs": [],
   "source": [
    "if 'QUANDL_KEY' in os.environ:\n",
    "    quandl.ApiConfig.api_key = os.environ['QUANDL_KEY']\n",
    "    \n",
    "DATA_DIR = os.environ['DATA_DIR']"
   ]
  },
  {
   "cell_type": "code",
   "execution_count": 3,
   "metadata": {
    "collapsed": true
   },
   "outputs": [],
   "source": [
    "api_call = {\n",
    "    'ECB': 'ECB/EURUSD',\n",
    "    'FRED': 'FRED/DEXUSEU',\n",
    "    'BOE': 'BOE/XUDLSER'\n",
    "    }"
   ]
  },
  {
   "cell_type": "code",
   "execution_count": 4,
   "metadata": {},
   "outputs": [
    {
     "name": "stdout",
     "output_type": "stream",
     "text": [
      "there\n",
      "1.0632\n"
     ]
    }
   ],
   "source": [
    "salary = pd.read_csv(os.path.join(DATA_DIR, 'salary.csv'))\n",
    "salary['time_stamp'] = salary['Date'].apply(lambda x: datetime.strptime(x, '%Y-%m-%d'))\n",
    "time_stamp = salary['time_stamp'][0]\n",
    "\n",
    "data_source_code = 'ECB'\n",
    "fx_call_code =api_call[data_source_code]\n",
    "\n",
    "\n",
    "\n",
    "fx_rate = quandl.get(fx_call_code, start_date=time_stamp, end_date=time_stamp + timedelta(days=1))\n",
    "if len(fx_rate) != 0:\n",
    "    print('there')\n",
    "    print(fx_rate['Value'][0])\n",
    "else:\n",
    "    fx_rate_before = quandl.get(fx_call_code, start_date = time_stamp - timedelta(days=7),\n",
    "                                          end_date = time_stamp - timedelta(days=1))\n",
    "    fx_rate_after = quandl.get(fx_call_code, start_date=time_stamp + timedelta(days=1), \n",
    "                                         end_date=time_stamp + timedelta(days=7))\n",
    "    print('missing')\n",
    "    print((fx_rate_before['Value'][-1] + fx_rate_after['Value'][0])/2)"
   ]
  },
  {
   "cell_type": "code",
   "execution_count": 5,
   "metadata": {},
   "outputs": [
    {
     "data": {
      "text/html": [
       "<div>\n",
       "<style>\n",
       "    .dataframe thead tr:only-child th {\n",
       "        text-align: right;\n",
       "    }\n",
       "\n",
       "    .dataframe thead th {\n",
       "        text-align: left;\n",
       "    }\n",
       "\n",
       "    .dataframe tbody tr th {\n",
       "        vertical-align: top;\n",
       "    }\n",
       "</style>\n",
       "<table border=\"1\" class=\"dataframe\">\n",
       "  <thead>\n",
       "    <tr style=\"text-align: right;\">\n",
       "      <th></th>\n",
       "      <th>Value</th>\n",
       "    </tr>\n",
       "    <tr>\n",
       "      <th>Date</th>\n",
       "      <th></th>\n",
       "    </tr>\n",
       "  </thead>\n",
       "  <tbody>\n",
       "  </tbody>\n",
       "</table>\n",
       "</div>"
      ],
      "text/plain": [
       "Empty DataFrame\n",
       "Columns: [Value]\n",
       "Index: []"
      ]
     },
     "execution_count": 5,
     "metadata": {},
     "output_type": "execute_result"
    }
   ],
   "source": [
    "fx_rate_test = pd.DataFrame(data={'Value':[]})\n",
    "fx_rate_test.index.rename('Date', inplace=True)\n",
    "fx_rate_test"
   ]
  }
 ],
 "metadata": {
  "kernelspec": {
   "display_name": "Python 3",
   "language": "python",
   "name": "python3"
  },
  "language_info": {
   "codemirror_mode": {
    "name": "ipython",
    "version": 3
   },
   "file_extension": ".py",
   "mimetype": "text/x-python",
   "name": "python",
   "nbconvert_exporter": "python",
   "pygments_lexer": "ipython3",
   "version": "3.6.2"
  }
 },
 "nbformat": 4,
 "nbformat_minor": 2
}
