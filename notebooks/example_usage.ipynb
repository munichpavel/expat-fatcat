{
 "cells": [
  {
   "cell_type": "markdown",
   "metadata": {},
   "source": [
    "# Convert foreign payments to USD with historical FX rates\n",
    "\n",
    "For each type of payment that needs to be converted to USD, and instance of ```FatcatCalculator``` is defined, which is instantiated with the currency of the payments, and a list of dicts containing the payment dates and amounts."
   ]
  },
  {
   "cell_type": "code",
   "execution_count": 1,
   "metadata": {},
   "outputs": [],
   "source": [
    "import pandas as pd\n",
    "from datetime import datetime\n",
    "\n",
    "from expat_fatcat import QuandlRateConverterToUSD, FatcatCalculator, f2555"
   ]
  },
  {
   "cell_type": "markdown",
   "metadata": {},
   "source": [
    "## Using QUANDL to get fx rates\n",
    "If you have a quandl api key, you can get real exchange rates using the ```QuandlRateConverterToUSD```. For the below examples, the fake payments are now in EUR."
   ]
  },
  {
   "cell_type": "code",
   "execution_count": 2,
   "metadata": {},
   "outputs": [
    {
     "data": {
      "text/plain": [
       "1.125"
      ]
     },
     "execution_count": 2,
     "metadata": {},
     "output_type": "execute_result"
    }
   ],
   "source": [
    "converter = QuandlRateConverterToUSD()\n",
    "converter.get_rate('EUR', datetime(2019, 4, 18))"
   ]
  },
  {
   "cell_type": "markdown",
   "metadata": {},
   "source": [
    "### Imputing missing rates"
   ]
  },
  {
   "cell_type": "code",
   "execution_count": 3,
   "metadata": {},
   "outputs": [
    {
     "name": "stderr",
     "output_type": "stream",
     "text": [
      "/Users/pauldev/delo/projects/expat-fatcat/src/expat_fatcat/expat_fatcat.py:160: UserWarning: Date 2019-04-19 00:00:00 is invalid, trying before and after\n",
      "  warnings.warn(\"Date {} is invalid, trying before and after\".format(date))\n",
      "/Users/pauldev/delo/projects/expat-fatcat/src/expat_fatcat/expat_fatcat.py:160: UserWarning: Date 2019-04-20 00:00:00 is invalid, trying before and after\n",
      "  warnings.warn(\"Date {} is invalid, trying before and after\".format(date))\n"
     ]
    },
    {
     "data": {
      "text/plain": [
       "1.125"
      ]
     },
     "execution_count": 3,
     "metadata": {},
     "output_type": "execute_result"
    }
   ],
   "source": [
    "# Bank holiday: Good Friday 2019\n",
    "converter.get_rate('EUR', datetime(2019, 4, 19))"
   ]
  },
  {
   "cell_type": "code",
   "execution_count": 4,
   "metadata": {},
   "outputs": [
    {
     "name": "stderr",
     "output_type": "stream",
     "text": [
      "/Users/pauldev/delo/projects/expat-fatcat/src/expat_fatcat/expat_fatcat.py:160: UserWarning: Date 2019-04-19 00:00:00 is invalid, trying before and after\n",
      "  warnings.warn(\"Date {} is invalid, trying before and after\".format(date))\n",
      "/Users/pauldev/delo/projects/expat-fatcat/src/expat_fatcat/expat_fatcat.py:160: UserWarning: Date 2019-04-20 00:00:00 is invalid, trying before and after\n",
      "  warnings.warn(\"Date {} is invalid, trying before and after\".format(date))\n"
     ]
    },
    {
     "data": {
      "text/plain": [
       "True"
      ]
     },
     "execution_count": 4,
     "metadata": {},
     "output_type": "execute_result"
    }
   ],
   "source": [
    "# Good Friday rate is taken from the day before\n",
    "converter.get_rate('EUR', datetime(2019, 4, 19)) == converter.get_rate('EUR', datetime(2019, 4, 18))"
   ]
  },
  {
   "cell_type": "code",
   "execution_count": 5,
   "metadata": {},
   "outputs": [
    {
     "name": "stderr",
     "output_type": "stream",
     "text": [
      "/Users/pauldev/delo/projects/expat-fatcat/src/expat_fatcat/expat_fatcat.py:160: UserWarning: Date 2019-04-21 00:00:00 is invalid, trying before and after\n",
      "  warnings.warn(\"Date {} is invalid, trying before and after\".format(date))\n",
      "/Users/pauldev/delo/projects/expat-fatcat/src/expat_fatcat/expat_fatcat.py:160: UserWarning: Date 2019-04-22 00:00:00 is invalid, trying before and after\n",
      "  warnings.warn(\"Date {} is invalid, trying before and after\".format(date))\n",
      "/Users/pauldev/delo/projects/expat-fatcat/src/expat_fatcat/expat_fatcat.py:160: UserWarning: Date 2019-04-20 00:00:00 is invalid, trying before and after\n",
      "  warnings.warn(\"Date {} is invalid, trying before and after\".format(date))\n",
      "/Users/pauldev/delo/projects/expat-fatcat/src/expat_fatcat/expat_fatcat.py:160: UserWarning: Date 2019-04-19 00:00:00 is invalid, trying before and after\n",
      "  warnings.warn(\"Date {} is invalid, trying before and after\".format(date))\n"
     ]
    },
    {
     "data": {
      "text/plain": [
       "True"
      ]
     },
     "execution_count": 5,
     "metadata": {},
     "output_type": "execute_result"
    }
   ],
   "source": [
    "# Easter Sunday rate is taken from following Tuesday\n",
    "converter.get_rate('EUR', datetime(2019, 4, 21)) == converter.get_rate('EUR', datetime(2019, 4, 23))"
   ]
  },
  {
   "cell_type": "markdown",
   "metadata": {},
   "source": [
    "# Example payment data\n",
    "\n",
    "This data is represents fake payment data in the currency \"FOO\"."
   ]
  },
  {
   "cell_type": "code",
   "execution_count": 6,
   "metadata": {},
   "outputs": [],
   "source": [
    "payments = dict(\n",
    "    date = [datetime(2018, 1, 15), datetime(2018, 2, 15), datetime(2018, 3, 15)],\n",
    "    amount = [100, 100, 120]\n",
    ")\n",
    "payments = [dict(date='2018-01-15', amount=100), dict(date='2018-02-15', amount=150)]"
   ]
  },
  {
   "cell_type": "code",
   "execution_count": 7,
   "metadata": {},
   "outputs": [
    {
     "name": "stdout",
     "output_type": "stream",
     "text": [
      "Example payment EUR to USD calculation: 310.165\n"
     ]
    }
   ],
   "source": [
    "payment_calculator = FatcatCalculator(converter)\n",
    "print('Example payment EUR to USD calculation: {}'\n",
    "      .format(payment_calculator(payments, 'EUR')))"
   ]
  },
  {
   "cell_type": "markdown",
   "metadata": {},
   "source": [
    "## Compute total foreign income  and housing deduction examples of f2555"
   ]
  },
  {
   "cell_type": "code",
   "execution_count": 8,
   "metadata": {},
   "outputs": [
    {
     "name": "stdout",
     "output_type": "stream",
     "text": [
      "Example salary calculation, line 25 of f2555: 3737.6000000000004\n"
     ]
    }
   ],
   "source": [
    "salary = [\n",
    "    dict(date='2017-01-20', amount=1000), \n",
    "    dict(date='2017-02-20', amount=1000), \n",
    "    dict(date='2017-03-20', amount=1500)\n",
    "]\n",
    "\n",
    "calculator = FatcatCalculator(converter)\n",
    "f2555_line_25 = calculator(salary, 'EUR')\n",
    "print('Example salary calculation, line 25 of f2555: {}'.format(f2555_line_25))"
   ]
  },
  {
   "cell_type": "code",
   "execution_count": 9,
   "metadata": {},
   "outputs": [
    {
     "name": "stdout",
     "output_type": "stream",
     "text": [
      "Example housing deduction calculation, line 34 of f2555: 2080.0\n"
     ]
    }
   ],
   "source": [
    "housing = [\n",
    "    dict(date='2017-01-20', amount=650),\n",
    "    dict(date='2017-02-20', amount=650),\n",
    "    dict(date='2017-03-20', amount=650)\n",
    "]\n",
    "f2555_line_34 = calculator(housing, 'EUR')\n",
    "print('Example housing deduction calculation, line 34 of f2555: {}'.format(f2555_line_34))"
   ]
  },
  {
   "cell_type": "markdown",
   "metadata": {},
   "source": [
    "## Putting things together with the function ```f2555```"
   ]
  },
  {
   "cell_type": "code",
   "execution_count": 10,
   "metadata": {},
   "outputs": [
    {
     "data": {
      "text/plain": [
       "{'salary': {'currency': 'EUR', 'amount': 3737.6000000000004},\n",
       " 'rent': {'currency': 'EUR', 'amount': 2080.0}}"
      ]
     },
     "execution_count": 10,
     "metadata": {},
     "output_type": "execute_result"
    }
   ],
   "source": [
    "data = [\n",
    "    {'tag': 'salary', 'currency': 'EUR', 'payments': salary},\n",
    "    {'tag': 'rent', 'currency': 'EUR', 'payments': housing}\n",
    "]\n",
    "f2555(converter, data)"
   ]
  }
 ],
 "metadata": {
  "kernelspec": {
   "display_name": "Python 3",
   "language": "python",
   "name": "python3"
  },
  "language_info": {
   "codemirror_mode": {
    "name": "ipython",
    "version": 3
   },
   "file_extension": ".py",
   "mimetype": "text/x-python",
   "name": "python",
   "nbconvert_exporter": "python",
   "pygments_lexer": "ipython3",
   "version": "3.7.6"
  }
 },
 "nbformat": 4,
 "nbformat_minor": 2
}
