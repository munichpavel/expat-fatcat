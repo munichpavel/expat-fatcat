{
 "cells": [
  {
   "cell_type": "markdown",
   "metadata": {},
   "source": [
    "# Convert foreign payments to USD with historical FX rates\n",
    "\n",
    "For each type of payment that needs to be converted to USD, and instance of ```FatcatCalculator``` is defined, which is instantiated with the currency of the payments, and a list of dicts containing the payment dates and amounts."
   ]
  },
  {
   "cell_type": "code",
   "execution_count": 1,
   "metadata": {},
   "outputs": [],
   "source": [
    "import pandas as pd\n",
    "from datetime import datetime\n",
    "\n",
    "from expat_fatcat import FatcatCalculator, QuandlUSDRateConverterTo, f2555\n",
    "from expat_fatcat.expat_fatcat import DummyRateConverterTo"
   ]
  },
  {
   "cell_type": "markdown",
   "metadata": {},
   "source": [
    "# Load example payment data\n",
    "This data is represents fake payment data in the currency \"FOO\"."
   ]
  },
  {
   "cell_type": "code",
   "execution_count": 2,
   "metadata": {},
   "outputs": [
    {
     "data": {
      "text/html": [
       "<div>\n",
       "<style scoped>\n",
       "    .dataframe tbody tr th:only-of-type {\n",
       "        vertical-align: middle;\n",
       "    }\n",
       "\n",
       "    .dataframe tbody tr th {\n",
       "        vertical-align: top;\n",
       "    }\n",
       "\n",
       "    .dataframe thead th {\n",
       "        text-align: right;\n",
       "    }\n",
       "</style>\n",
       "<table border=\"1\" class=\"dataframe\">\n",
       "  <thead>\n",
       "    <tr style=\"text-align: right;\">\n",
       "      <th></th>\n",
       "      <th>date</th>\n",
       "      <th>amount</th>\n",
       "    </tr>\n",
       "  </thead>\n",
       "  <tbody>\n",
       "    <tr>\n",
       "      <th>0</th>\n",
       "      <td>2017-01-20</td>\n",
       "      <td>1000</td>\n",
       "    </tr>\n",
       "    <tr>\n",
       "      <th>1</th>\n",
       "      <td>2017-02-20</td>\n",
       "      <td>1000</td>\n",
       "    </tr>\n",
       "    <tr>\n",
       "      <th>2</th>\n",
       "      <td>2017-03-20</td>\n",
       "      <td>1500</td>\n",
       "    </tr>\n",
       "  </tbody>\n",
       "</table>\n",
       "</div>"
      ],
      "text/plain": [
       "         date  amount\n",
       "0  2017-01-20    1000\n",
       "1  2017-02-20    1000\n",
       "2  2017-03-20    1500"
      ]
     },
     "execution_count": 2,
     "metadata": {},
     "output_type": "execute_result"
    }
   ],
   "source": [
    "payments = pd.read_csv('example.csv')\n",
    "payments"
   ]
  },
  {
   "cell_type": "code",
   "execution_count": 3,
   "metadata": {},
   "outputs": [
    {
     "name": "stdout",
     "output_type": "stream",
     "text": [
      "Example aggregate payment calculation: 3937.5\n"
     ]
    }
   ],
   "source": [
    "converter = DummyRateConverterTo('USD')\n",
    "payment_calculator = FatcatCalculator(converter)\n",
    "print('Example aggregate payment calculation: {}'\n",
    "      .format(payment_calculator('FOO', payments.to_dict(orient='records'))))"
   ]
  },
  {
   "cell_type": "markdown",
   "metadata": {},
   "source": [
    "## Compute total foreign income  and housing deduction examples of f2555"
   ]
  },
  {
   "cell_type": "code",
   "execution_count": 4,
   "metadata": {},
   "outputs": [
    {
     "name": "stdout",
     "output_type": "stream",
     "text": [
      "Example salary calculation, line 25 of f2555: 3937.5\n",
      "Example housing deduction calculation, line 34 of f2555: 2193.75\n"
     ]
    }
   ],
   "source": [
    "salary = pd.read_csv('example_salary.csv').to_dict(orient='records')\n",
    "calculator = FatcatCalculator(converter)\n",
    "f2555_line_25 = calculator('FOO', salary)\n",
    "print('Example salary calculation, line 25 of f2555: {}'.format(f2555_line_25))\n",
    "\n",
    "housing = pd.read_csv('example_housing.csv').to_dict(orient='records')\n",
    "f2555_line_34 = calculator('FOO', housing)\n",
    "print('Example housing deduction calculation, line 34 of f2555: {}'.format(f2555_line_34))"
   ]
  },
  {
   "cell_type": "markdown",
   "metadata": {},
   "source": [
    "## Putting things together with the function ```f2555```"
   ]
  },
  {
   "cell_type": "code",
   "execution_count": 5,
   "metadata": {},
   "outputs": [
    {
     "data": {
      "text/plain": [
       "{'salary': {'currency': 'FOO', 'amount': 3937.5},\n",
       " 'rent': {'currency': 'BAR', 'amount': 2193.75}}"
      ]
     },
     "execution_count": 5,
     "metadata": {},
     "output_type": "execute_result"
    }
   ],
   "source": [
    "converter = DummyRateConverterTo('USD')\n",
    "data = [\n",
    "    {'tag': 'salary', 'currency': 'FOO', 'payments': salary},\n",
    "    {'tag': 'rent', 'currency': 'BAR', 'payments': housing}\n",
    "]\n",
    "f2555(converter, data)"
   ]
  },
  {
   "cell_type": "markdown",
   "metadata": {},
   "source": [
    "## Using QUANDL to get fx rates\n",
    "If you have a quandl api key, you can get real exchange rates using the ```QuandlUSDRateConverter```. For the below examples, we pretend our payments are now in EUR."
   ]
  },
  {
   "cell_type": "code",
   "execution_count": 6,
   "metadata": {},
   "outputs": [
    {
     "name": "stdout",
     "output_type": "stream",
     "text": [
      "Example payment EUR to USD calculation: 3737.6000000000004\n"
     ]
    }
   ],
   "source": [
    "converter = QuandlUSDRateConverterTo()\n",
    "payment_calculator = FatcatCalculator(converter)\n",
    "print('Example payment EUR to USD calculation: {}'\n",
    "      .format(payment_calculator('EUR', payments.to_dict(orient='records'))))"
   ]
  },
  {
   "cell_type": "markdown",
   "metadata": {},
   "source": [
    "### Imputing missing rates"
   ]
  },
  {
   "cell_type": "code",
   "execution_count": 7,
   "metadata": {},
   "outputs": [
    {
     "name": "stdout",
     "output_type": "stream",
     "text": [
      "Invalid date, trying before and after\n",
      "Invalid date, trying before and after\n",
      "Invalid date, trying before and after\n"
     ]
    },
    {
     "data": {
      "text/plain": [
       "1.125"
      ]
     },
     "execution_count": 7,
     "metadata": {},
     "output_type": "execute_result"
    }
   ],
   "source": [
    "# Bank holiday: Good Friday 2019\n",
    "converter.get_rate('EUR', datetime(2019, 4, 19))"
   ]
  },
  {
   "cell_type": "code",
   "execution_count": 8,
   "metadata": {},
   "outputs": [
    {
     "name": "stdout",
     "output_type": "stream",
     "text": [
      "Invalid date, trying before and after\n",
      "Invalid date, trying before and after\n",
      "Invalid date, trying before and after\n"
     ]
    },
    {
     "data": {
      "text/plain": [
       "True"
      ]
     },
     "execution_count": 8,
     "metadata": {},
     "output_type": "execute_result"
    }
   ],
   "source": [
    "# Good Friday rate is taken from the day before\n",
    "converter.get_rate('EUR', datetime(2019, 4, 19)) == converter.get_rate('EUR', datetime(2019, 4, 18))"
   ]
  },
  {
   "cell_type": "code",
   "execution_count": 9,
   "metadata": {},
   "outputs": [
    {
     "name": "stdout",
     "output_type": "stream",
     "text": [
      "Invalid date, trying before and after\n",
      "Invalid date, trying before and after\n",
      "Invalid date, trying before and after\n",
      "Invalid date, trying before and after\n",
      "Invalid date, trying before and after\n"
     ]
    },
    {
     "data": {
      "text/plain": [
       "True"
      ]
     },
     "execution_count": 9,
     "metadata": {},
     "output_type": "execute_result"
    }
   ],
   "source": [
    "# Easter Sunday rate is taken from following Tuesday\n",
    "converter.get_rate('EUR', datetime(2019, 4, 21)) == converter.get_rate('EUR', datetime(2019, 4, 23))"
   ]
  }
 ],
 "metadata": {
  "kernelspec": {
   "display_name": "Python 3",
   "language": "python",
   "name": "python3"
  },
  "language_info": {
   "codemirror_mode": {
    "name": "ipython",
    "version": 3
   },
   "file_extension": ".py",
   "mimetype": "text/x-python",
   "name": "python",
   "nbconvert_exporter": "python",
   "pygments_lexer": "ipython3",
   "version": "3.7.3"
  }
 },
 "nbformat": 4,
 "nbformat_minor": 2
}
